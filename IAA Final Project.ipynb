{
 "cells": [
  {
   "cell_type": "code",
   "execution_count": 133,
   "id": "b86f3a27-d7fa-49e4-862d-fee03934713b",
   "metadata": {},
   "outputs": [],
   "source": [
    "import csv\n",
    "import random\n",
    "import numpy as np\n",
    "import sklearn as sk\n",
    "import pandas as pd\n",
    "\n",
    "def loadFile(filePath):\n",
    "    dataset = []\n",
    "    with open(filePath, 'r') as fd:\n",
    "        header = next(fd)\n",
    "        reader = csv.reader(fd, delimiter=';')\n",
    "        for row in reader:\n",
    "            for i in range(len(row)):\n",
    "                row[i] = float(row[i])\n",
    "            dataset.append(row)\n",
    "    return dataset, header.replace('\"', '').split(';')\n",
    "\n",
    "def removeValues(dataset, percentage):\n",
    "    toRemove = int(len(dataset[0])*percentage)\n",
    "    print(len(dataset), percentage, toRemove)\n",
    "    for row in dataset:\n",
    "        for i in range(toRemove):\n",
    "            feature = int(random.random() * len(row)) \n",
    "            row[feature] = np.nan\n",
    "\n",
    "def handleMissingValues(dataset):\n",
    "    imp = sk.impute.SimpleImputer(missing_values=np.nan, strategy='mean')\n",
    "    return imp.fit_transform(dataset)\n",
    "\n",
    "def applyNormalization(dataset, norm):\n",
    "    return sk.preprocessing.normalize(dataset, norm=norm)\n",
    "\n",
    "def applyDiscretization(dataset):\n",
    "    transf = sk.preprocessing.KBinsDiscretizer(n_bins = 3, encode = 'ordinal', strategy = 'quantile')\n",
    "    return transf.fit_transform(dataset)\n",
    "\n",
    "def applyDataReduction(dataset):\n",
    "    agglo = sk.cluster.FeatureAgglomeration(n_clusters=5)\n",
    "    return agglo.fit_transform(dataset)\n",
    "\n",
    "def pearsonCorrelation(dataset):\n",
    "    df = pd.DataFrame(dataset, columns = header)\n",
    "    y = df[\"fixed acidity\"]          #Target Variable\n",
    "    X = df.drop(\"fixed acidity\", axis=1)   #Feature Matrix\n",
    "    pearson = sk.feature_selection.r_regression(X, y, center=True)\n",
    "    return pearson"
   ]
  },
  {
   "cell_type": "code",
   "execution_count": 134,
   "id": "c819e0c0-6091-49d7-bd26-49477e9321be",
   "metadata": {},
   "outputs": [
    {
     "name": "stdout",
     "output_type": "stream",
     "text": [
      "[-0.25613089  0.67170343  0.11477672  0.09370519 -0.15379419 -0.11318144\n",
      "  0.66804729 -0.68297819  0.18300566 -0.06166827  0.12405165]\n"
     ]
    }
   ],
   "source": [
    "dataset, header = loadFile(\"./winequality-red.csv\")\n",
    "#removeValues(red, 0.1)\n",
    "#redMissing = handleMissingValues(redMissing)\n",
    "\n",
    "'''red1 = applyNormalization(red, 'l1')\n",
    "print(red1)\n",
    "red2 = applyNormalization(red, 'l2')\n",
    "print(red2)\n",
    "red3 = applyNormalization(red, 'max')\n",
    "print(red3)\n",
    "\n",
    "redDisc = applyDiscretization(red)\n",
    "print(redDisc)\n",
    "\n",
    "redRed = applyDataReduction(red)\n",
    "print(redRed)\n",
    "'''\n",
    "\n",
    "redPearson = pearsonCorrelation(red)\n",
    "print(redPearson)\n"
   ]
  },
  {
   "cell_type": "code",
   "execution_count": null,
   "id": "1dd78a2a-e8df-4b93-8221-67020dad8321",
   "metadata": {},
   "outputs": [],
   "source": []
  },
  {
   "cell_type": "code",
   "execution_count": null,
   "id": "259b7aea-6ae9-4b6a-b559-284539be8810",
   "metadata": {},
   "outputs": [],
   "source": []
  }
 ],
 "metadata": {
  "kernelspec": {
   "display_name": "Python 3 (ipykernel)",
   "language": "python",
   "name": "python3"
  },
  "language_info": {
   "codemirror_mode": {
    "name": "ipython",
    "version": 3
   },
   "file_extension": ".py",
   "mimetype": "text/x-python",
   "name": "python",
   "nbconvert_exporter": "python",
   "pygments_lexer": "ipython3",
   "version": "3.9.7"
  }
 },
 "nbformat": 4,
 "nbformat_minor": 5
}
