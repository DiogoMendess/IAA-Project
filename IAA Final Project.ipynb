{
 "cells": [
  {
   "cell_type": "code",
   "execution_count": 76,
   "id": "b86f3a27-d7fa-49e4-862d-fee03934713b",
   "metadata": {},
   "outputs": [],
   "source": [
    "import csv\n",
    "import random\n",
    "import numpy as np\n",
    "import sklearn.impute as ski\n",
    "\n",
    "def loadFile(filePath):\n",
    "    dataset = []\n",
    "    with open(filePath, 'r') as fd:\n",
    "        next(fd)\n",
    "        reader = csv.reader(fd, delimiter=';')\n",
    "        for row in reader:\n",
    "            for i in range(len(row)):\n",
    "                row[i] = float(row[i])\n",
    "            dataset.append(row)\n",
    "    return dataset\n",
    "\n",
    "def removeValues(dataset, percentage):\n",
    "    toRemove = int(len(dataset[0])*percentage)\n",
    "    print(len(dataset), percentage, toRemove)\n",
    "    for row in dataset:\n",
    "        for i in range(toRemove):\n",
    "            feature = int(random.random() * len(row)) \n",
    "            row[feature] = np.nan\n",
    "    return dataset\n",
    "\n",
    "def handleMissingValues(dataset):\n",
    "    imp = ski.SimpleImputer(missing_values=np.nan, strategy='mean')\n",
    "    return imp.fit_transform(dataset)"
   ]
  },
  {
   "cell_type": "code",
   "execution_count": 78,
   "id": "c819e0c0-6091-49d7-bd26-49477e9321be",
   "metadata": {},
   "outputs": [
    {
     "name": "stdout",
     "output_type": "stream",
     "text": [
      "1599 0.1 1\n",
      "[[ 7.4         0.7         0.         ...  0.56        9.4\n",
      "   5.        ]\n",
      " [ 7.8         0.52762323  0.         ...  0.68        9.8\n",
      "   5.        ]\n",
      " [ 7.8         0.76        0.04       ...  0.65806032  9.8\n",
      "   5.        ]\n",
      " ...\n",
      " [ 6.3         0.51        0.272817   ...  0.75       11.\n",
      "   6.        ]\n",
      " [ 5.9         0.645       0.12       ...  0.71       10.2\n",
      "   5.        ]\n",
      " [ 6.          0.31        0.47       ...  0.66       11.\n",
      "   6.        ]]\n"
     ]
    }
   ],
   "source": [
    "red = loadFile(\"./winequality-red.csv\")\n",
    "red = removeValues(red, 0.1)\n",
    "red = handleMissingValues(red)\n",
    "print(red)"
   ]
  },
  {
   "cell_type": "code",
   "execution_count": null,
   "id": "259b7aea-6ae9-4b6a-b559-284539be8810",
   "metadata": {},
   "outputs": [],
   "source": []
  }
 ],
 "metadata": {
  "kernelspec": {
   "display_name": "Python 3 (ipykernel)",
   "language": "python",
   "name": "python3"
  },
  "language_info": {
   "codemirror_mode": {
    "name": "ipython",
    "version": 3
   },
   "file_extension": ".py",
   "mimetype": "text/x-python",
   "name": "python",
   "nbconvert_exporter": "python",
   "pygments_lexer": "ipython3",
   "version": "3.9.6"
  }
 },
 "nbformat": 4,
 "nbformat_minor": 5
}
